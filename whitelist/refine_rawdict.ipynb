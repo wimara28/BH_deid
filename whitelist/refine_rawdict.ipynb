{
 "cells": [
  {
   "cell_type": "code",
   "execution_count": 1,
   "metadata": {},
   "outputs": [],
   "source": [
    "import re\n",
    "import pandas as pd"
   ]
  },
  {
   "cell_type": "markdown",
   "metadata": {},
   "source": [
    "### Preprocess dict_eng"
   ]
  },
  {
   "cell_type": "code",
   "execution_count": null,
   "metadata": {},
   "outputs": [],
   "source": [
    "df_eng = pd.DataFrame(columns = [\"KOR\", \"ENG\"])\n",
    "null_list = []\n",
    "\n",
    "with open('raw_dict_eng.txt', 'r', encoding='cp949') as eng:\n",
    "    lines = eng.readlines()\n",
    "    \n",
    "    for i, line in enumerate(lines):\n",
    "        if i==0 or i==1: # 0(column) 1(----)\n",
    "            continue\n",
    "        \n",
    "        line = re.sub('      +', ';', line.rstrip()) # dict file columns are seperated by multiple spaces\n",
    "        line = line.split(';')    \n",
    "        \n",
    "        if len(line) ==2:\n",
    "            line = pd.Series(line, index=df_eng.columns)\n",
    "            df_eng = df_eng.append(line, ignore_index=True)\n",
    "        else:\n",
    "            null_list.append(line)"
   ]
  },
  {
   "cell_type": "code",
   "execution_count": null,
   "metadata": {},
   "outputs": [],
   "source": [
    "for i in null_list:\n",
    "    df_eng = df_eng.append({'KOR' : ', '.join(i[:-1]), 'ENG' : i[-1]}, ignore_index=True)\n",
    "df_eng = df_eng.drop_duplicates()"
   ]
  },
  {
   "cell_type": "code",
   "execution_count": null,
   "metadata": {},
   "outputs": [],
   "source": [
    "df_eng.to_csv('dict_eng.csv', header=False)"
   ]
  },
  {
   "cell_type": "markdown",
   "metadata": {},
   "source": [
    "### Preprocess dict_abbreviation"
   ]
  },
  {
   "cell_type": "code",
   "execution_count": null,
   "metadata": {},
   "outputs": [],
   "source": [
    "df_abb = pd.DataFrame(columns=[\"WORD\", \"DEFINITION\"])\n",
    "null_list = []\n",
    "\n",
    "with open('dict_abbreviation.txt', 'r', encoding='cp949') as ab:\n",
    "    lines = ab.readlines()\n",
    "    for i, line in enumerate(lines):\n",
    "        if i == 0 or i == 1:\n",
    "            continue\n",
    "        \n",
    "        line = re.sub('      +', '$', line.rstrip()) # abbreviation file uses ';' as a string, so replace it to '$'\n",
    "        line = line.split('$')\n",
    "        \n",
    "        if len(line) == 2:\n",
    "            line = pd.Series(line, index=df_abb.columns)\n",
    "            df_abb = df_abb.append(line, ignore_index=True)\n",
    "        else:\n",
    "            null_list.append(line)\n",
    "      "
   ]
  },
  {
   "cell_type": "code",
   "execution_count": null,
   "metadata": {},
   "outputs": [],
   "source": [
    "for i in null_list:\n",
    "    df_abb = df_abb.append({'WORD' : i[0], 'DEFINITION' : ', '.join(i[1:])}, ignore_index=True)\n",
    "df_abb = df_abb.drop_duplicates()"
   ]
  },
  {
   "cell_type": "code",
   "execution_count": null,
   "metadata": {},
   "outputs": [],
   "source": [
    "df_abb.to_csv('dict_abb.csv', header=False)"
   ]
  }
 ],
 "metadata": {
  "kernelspec": {
   "display_name": "Python 3",
   "language": "python",
   "name": "python3"
  },
  "language_info": {
   "codemirror_mode": {
    "name": "ipython",
    "version": 3
   },
   "file_extension": ".py",
   "mimetype": "text/x-python",
   "name": "python",
   "nbconvert_exporter": "python",
   "pygments_lexer": "ipython3",
   "version": "3.7.6"
  }
 },
 "nbformat": 4,
 "nbformat_minor": 4
}
