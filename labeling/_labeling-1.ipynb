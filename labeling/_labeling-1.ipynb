{
 "cells": [
  {
   "cell_type": "markdown",
   "metadata": {},
   "source": [
    "## Regex to label for KoBERT_01\n",
    "- 각 regex별로 적용시켜야 하는 labeling이 다르기 때문에 항목별로 나누어서 진행.\n",
    "- 해당 노트에서는 patients, medical staff 항목을 다룸."
   ]
  },
  {
   "cell_type": "code",
   "execution_count": 1,
   "metadata": {},
   "outputs": [],
   "source": [
    "import os\n",
    "import copy\n",
    "import re\n",
    "\n",
    "import pandas as pd"
   ]
  },
  {
   "cell_type": "code",
   "execution_count": 2,
   "metadata": {},
   "outputs": [],
   "source": [
    "dat = pd.read_csv('phis.csv', encoding='utf-8')\n",
    "label = [\"'PER-B'\", \"'PER-I'\", \"'DAT-B'\", \"'DAT-I'\", \"'ORG-B'\", \n",
    "         \"'ORG-I'\", \"'LOC-B'\", \"'LOC-I'\", \"'NUM-B'\", \"'NUM-I'\", \"'ETC-B'\", \"'ETC-I'\"]"
   ]
  },
  {
   "cell_type": "markdown",
   "metadata": {},
   "source": [
    "### Patients"
   ]
  },
  {
   "cell_type": "code",
   "execution_count": 3,
   "metadata": {},
   "outputs": [],
   "source": [
    "notes={}\n",
    "\n",
    "for i in range(len(dat)):\n",
    "    notes[dat['note_id'][i]] = dat['note_text'][i]\n",
    "\n",
    "save_origins = copy.deepcopy(notes)"
   ]
  },
  {
   "cell_type": "code",
   "execution_count": 4,
   "metadata": {},
   "outputs": [],
   "source": [
    "regex = 'filters/regex/name_patients/patients.txt'\n",
    "\n",
    "with open(regex) as r:\n",
    "    patterns = re.compile(r.readline())"
   ]
  },
  {
   "cell_type": "markdown",
   "metadata": {},
   "source": [
    "1. 노트 정보를 불러와서 NAME_PATIENTS 패턴과 매치되는 문자열을 찾는다.\n",
    "2. 해당 문자열을 split()등을 이용해 'O'와 'PER-B'로 완전히 바꾼다.\n",
    "  - 만약 띄어쓰는 환자 이름이 있다면 유효하지 않게 됨.\n",
    "3. 2번에서 바꾼 string에 대해 'PER-B'라면 그대로 저장하고 그렇지 않으면 'O'로 바꾼다.\n",
    "4. 검수\n",
    "5. original string과 label을 저장한다.\n",
    "6. 다음 카테고리에서는 5번의 string과 label을 가지고 1번부터 작업한다. "
   ]
  },
  {
   "cell_type": "code",
   "execution_count": 5,
   "metadata": {},
   "outputs": [],
   "source": [
    "def convert_pname(matchObj):\n",
    "    match = matchObj.group()\n",
    "    convertString = \" 'O'\" * (len(match.split())-1) + \" 'PER-B'\"\n",
    "    return convertString"
   ]
  },
  {
   "cell_type": "code",
   "execution_count": 6,
   "metadata": {},
   "outputs": [],
   "source": [
    "import pandas as pd"
   ]
  },
  {
   "cell_type": "code",
   "execution_count": 7,
   "metadata": {},
   "outputs": [],
   "source": [
    "transformed = pd.DataFrame(columns = ['idx', 'origin', 'label'])"
   ]
  },
  {
   "cell_type": "code",
   "execution_count": 8,
   "metadata": {},
   "outputs": [],
   "source": [
    "i=0\n",
    "for k in notes.keys():\n",
    "    convNote = re.sub(patterns, convert_pname, notes[k])\n",
    "    newNotes = [] #label정보를 담고 있음\n",
    "    for words in convNote.split():\n",
    "        if words in label:\n",
    "            newNotes.append(words)\n",
    "        else:\n",
    "            newNotes.append(\"'O'\")    \n",
    "#     for i in range(len(newNotes)-1):\n",
    "#         print(notes[notes].split()[i] + '\\t' + newNotes[i])\n",
    "    transformed.loc[i] = [k, notes[k], convNote]\n",
    "    i += 1"
   ]
  },
  {
   "cell_type": "markdown",
   "metadata": {},
   "source": [
    "---"
   ]
  },
  {
   "cell_type": "markdown",
   "metadata": {},
   "source": [
    "### Medical Staff\n",
    "- 이 항목은 전부 labeling 처리가 달라서 어쩔 수 없이 txt 단위로 일일이 처리."
   ]
  },
  {
   "cell_type": "code",
   "execution_count": 9,
   "metadata": {},
   "outputs": [],
   "source": [
    "# after loading file like dat = pd.read_csv('lb.csv', encoding='utf-8')\n",
    "# transformed['label'] = dat\n",
    "\n",
    "dat = transformed\n",
    "\n",
    "notes={}\n",
    "\n",
    "for i in range(len(dat)):\n",
    "    notes[dat['idx'][i]] = dat['label'][i]\n"
   ]
  },
  {
   "cell_type": "code",
   "execution_count": 10,
   "metadata": {},
   "outputs": [],
   "source": [
    "regex = './filters/regex/name_medicalStaff/PF_NAME_kor_transformed.txt'\n",
    "\"\"\"\n",
    "[(P|p)(F|f)](.)?\\s?[가-힣]{2,}\n",
    "\"\"\"\n",
    "\n",
    "with open(regex) as r:\n",
    "    patterns = re.compile(r.readline())\n",
    "    \n",
    "def convert_staffname01(matchObj):\n",
    "    match = matchObj.group()\n",
    "    convertString = \"'O' \" * (len(match.split())-1) + \"'PER-B'\"\n",
    "    return convertString"
   ]
  },
  {
   "cell_type": "code",
   "execution_count": 11,
   "metadata": {},
   "outputs": [],
   "source": [
    "transformed = pd.DataFrame(columns = ['idx', 'origin', 'label'])\n",
    "\n",
    "i=0\n",
    "for k in notes.keys():\n",
    "    convNote = re.sub(patterns, convert_staffname01, notes[k])\n",
    "    newNotes = [] #label정보를 담고 있음\n",
    "    for words in convNote.split():\n",
    "        if words in label:\n",
    "            newNotes.append(words)\n",
    "        else:\n",
    "            newNotes.append(\"'O'\")    \n",
    "#     for i in range(len(newNotes)-1):\n",
    "#         print(notes[notes].split()[i] + '\\t' + newNotes[i])\n",
    "    transformed.loc[i] = [k, save_origins[k], convNote]\n",
    "    i += 1"
   ]
  },
  {
   "cell_type": "code",
   "execution_count": null,
   "metadata": {},
   "outputs": [],
   "source": []
  },
  {
   "cell_type": "code",
   "execution_count": 12,
   "metadata": {},
   "outputs": [],
   "source": [
    "#한번더..ㅎㅎ;\n",
    "dat = copy.deepcopy(transformed)\n",
    "\n",
    "notes={}\n",
    "\n",
    "for i in range(len(dat)):\n",
    "    notes[dat['idx'][i]] = dat['label'][i]"
   ]
  },
  {
   "cell_type": "code",
   "execution_count": 13,
   "metadata": {},
   "outputs": [],
   "source": [
    "regex = './filters/regex/name_medicalStaff/confirmed_01_medical_staff_transformed.txt'\n",
    "\"\"\"\n",
    "확인판독\\s[가-힣]{2,}(([,&/\\s]?[가-힣]{2,}){1,})?|판독의\\s[가-힣]{2,}(([,&/\\s]?[가-힣]{2,}){1,})?\n",
    "2명 이상의 medical staff name이 포함되어 있을 수 있음\n",
    "\"\"\"\n",
    "\n",
    "with open(regex) as r:\n",
    "    patterns = re.compile(r.readline())\n",
    "    #re.compile(r.readline())\n",
    "    \n",
    "def convert_staffname02(matchObj):\n",
    "    match = matchObj.group()\n",
    "    convertString = \"'O'\" + \" 'PER-B'\" * (len(match.split())-1)\n",
    "    return convertString"
   ]
  },
  {
   "cell_type": "code",
   "execution_count": 14,
   "metadata": {},
   "outputs": [],
   "source": [
    "transformed2 = pd.DataFrame(columns = ['idx', 'origin', 'label'])\n",
    "\n",
    "i=0\n",
    "for k in notes.keys():\n",
    "    convNote = re.sub(patterns, convert_staffname02, notes[k])\n",
    "    newNotes = [] #label정보를 담고 있음\n",
    "    for words in convNote.split():\n",
    "        if words in label:\n",
    "            newNotes.append(words)\n",
    "        else:\n",
    "            newNotes.append(\"'O'\")    \n",
    "#     for i in range(len(newNotes)-1):\n",
    "#         print(notes[notes].split()[i] + '\\t' + newNotes[i])\n",
    "    transformed2.loc[i] = [k, save_origins[k], convNote]\n",
    "    i += 1"
   ]
  },
  {
   "cell_type": "markdown",
   "metadata": {},
   "source": [
    "### 중간 메모 \n",
    "- `판독의 : 홍길동` 이런 표현도 존재\n",
    "- 몇 개의 표현식은 space여부를 지움(홍길동\\s?선생님 -> 홍길동\\s선생님)"
   ]
  },
  {
   "cell_type": "code",
   "execution_count": 15,
   "metadata": {},
   "outputs": [],
   "source": [
    "dat = copy.deepcopy(transformed2)\n",
    "\n",
    "notes={}\n",
    "\n",
    "for i in range(len(dat)):\n",
    "    notes[dat['idx'][i]] = dat['label'][i]"
   ]
  },
  {
   "cell_type": "code",
   "execution_count": 16,
   "metadata": {},
   "outputs": [],
   "source": [
    "regex = './filters/regex/name_medicalStaff/confirmed_02_medical_staff_transformed.txt'\n",
    "\"\"\"\n",
    "확인함 by [가-힣]{2,}(([,&/\\s]?[가-힣]{2,}){1,})?\n",
    "2명 이상의 medical staff name이 포함되어 있을 수 있음\n",
    "\"\"\"\n",
    "\n",
    "with open(regex) as r:\n",
    "    patterns = re.compile(r.readline())\n",
    "    #re.compile(r.readline())\n",
    "    \n",
    "def convert_staffname03(matchObj):\n",
    "    match = matchObj.group()\n",
    "    convertString = \"'O' 'O'\" + \" 'PER-B'\" * (len(match.split())-2)\n",
    "    return convertString"
   ]
  },
  {
   "cell_type": "code",
   "execution_count": 17,
   "metadata": {},
   "outputs": [],
   "source": [
    "transformed3 = pd.DataFrame(columns = ['idx', 'origin', 'label'])\n",
    "\n",
    "i=0\n",
    "for k in notes.keys():\n",
    "    convNote = re.sub(patterns, convert_staffname03, notes[k])\n",
    "    newNotes = [] #label정보를 담고 있음\n",
    "    for words in convNote.split():\n",
    "        if words in label:\n",
    "            newNotes.append(words)\n",
    "        else:\n",
    "            newNotes.append(\"'O'\")    \n",
    "#     for i in range(len(newNotes)-1):\n",
    "#         print(notes[notes].split()[i] + '\\t' + newNotes[i])\n",
    "    transformed3.loc[i] = [k, save_origins[k], convNote]\n",
    "    i += 1"
   ]
  },
  {
   "cell_type": "markdown",
   "metadata": {},
   "source": [
    "## 중간메모\n",
    "- 확인함 패턴은 한명만 쓴다.\n",
    "- 확인함 by 홍길동 이런식으로 잡는 것으로 변경함"
   ]
  },
  {
   "cell_type": "code",
   "execution_count": 18,
   "metadata": {},
   "outputs": [],
   "source": [
    "dat = copy.deepcopy(transformed3)\n",
    "\n",
    "notes={}\n",
    "\n",
    "for i in range(len(dat)):\n",
    "    notes[dat['idx'][i]] = dat['label'][i]"
   ]
  },
  {
   "cell_type": "code",
   "execution_count": 19,
   "metadata": {},
   "outputs": [],
   "source": [
    "regex = './filters/regex/name_medicalStaff/confirmed_03_medical_staff_transformed.txt'\n",
    "\"\"\"\n",
    "판독의\\d? : [가-힣]{2,}(([,&/\\s]?[가-힣]{2,}){1,})?\n",
    "2명 이상의 medical staff name이 포함되어 있을 수 있음\n",
    "\"\"\"\n",
    "\n",
    "with open(regex) as r:\n",
    "    patterns = re.compile(r.readline())\n",
    "    #re.compile(r.readline())\n",
    "    \n",
    "def convert_staffname03(matchObj):\n",
    "    match = matchObj.group()\n",
    "    convertString = \"'O' 'O'\" + \" 'PER-B'\" * (len(match.split())-2)\n",
    "    return convertString"
   ]
  },
  {
   "cell_type": "code",
   "execution_count": 20,
   "metadata": {},
   "outputs": [],
   "source": [
    "transformed4 = pd.DataFrame(columns = ['idx', 'origin', 'label'])\n",
    "\n",
    "i=0\n",
    "for k in notes.keys():\n",
    "    convNote = re.sub(patterns, convert_staffname03, notes[k])\n",
    "    newNotes = [] #label정보를 담고 있음\n",
    "    for words in convNote.split():\n",
    "        if words in label:\n",
    "            newNotes.append(words)\n",
    "        else:\n",
    "            newNotes.append(\"'O'\")    \n",
    "#     for i in range(len(newNotes)-1):\n",
    "#         print(notes[notes].split()[i] + '\\t' + newNotes[i])\n",
    "    transformed4.loc[i] = [k, save_origins[k], convNote]\n",
    "    i += 1"
   ]
  },
  {
   "cell_type": "code",
   "execution_count": null,
   "metadata": {},
   "outputs": [],
   "source": []
  },
  {
   "cell_type": "code",
   "execution_count": 21,
   "metadata": {},
   "outputs": [],
   "source": [
    "dat = copy.deepcopy(transformed4)\n",
    "\n",
    "notes={}\n",
    "\n",
    "for i in range(len(dat)):\n",
    "    notes[dat['idx'][i]] = dat['label'][i]"
   ]
  },
  {
   "cell_type": "code",
   "execution_count": 22,
   "metadata": {},
   "outputs": [],
   "source": [
    "regex = './filters/regex/name_medicalStaff/salutations_transformed.txt'\n",
    "\"\"\"\n",
    "[가-힣]{2,}(([,&/\\s]?[가-힣]{2,}){1,})?\\s(선생님|간호사|교수님)\n",
    "2명 이상의 medical staff name이 포함되어 있을 수 있음\n",
    "\"\"\"\n",
    "\n",
    "with open(regex) as r:\n",
    "    patterns = re.compile(r.readline())\n",
    "    #re.compile(r.readline())\n",
    "    \n",
    "def convert_staffname04(matchObj):\n",
    "    match = matchObj.group()\n",
    "    convertString = \"'PER-B'\" + \" 'O'\"\n",
    "    return convertString"
   ]
  },
  {
   "cell_type": "code",
   "execution_count": 23,
   "metadata": {},
   "outputs": [],
   "source": [
    "transformed5 = pd.DataFrame(columns = ['idx', 'origin', 'label'])\n",
    "\n",
    "i=0\n",
    "for k in notes.keys():\n",
    "    convNote = re.sub(patterns, convert_staffname04, notes[k])\n",
    "    newNotes = [] #label정보를 담고 있음\n",
    "    for words in convNote.split():\n",
    "        if words in label:\n",
    "            newNotes.append(words)\n",
    "        else:\n",
    "            newNotes.append(\"'O'\")    \n",
    "#     for i in range(len(newNotes)-1):\n",
    "#         print(notes[notes].split()[i] + '\\t' + newNotes[i])\n",
    "    transformed5.loc[i] = [k, save_origins[k], convNote]\n",
    "    i += 1"
   ]
  },
  {
   "cell_type": "code",
   "execution_count": null,
   "metadata": {},
   "outputs": [],
   "source": []
  },
  {
   "cell_type": "code",
   "execution_count": 24,
   "metadata": {},
   "outputs": [],
   "source": [
    "dat = copy.deepcopy(transformed5)\n",
    "\n",
    "notes={}\n",
    "\n",
    "for i in range(len(dat)):\n",
    "    notes[dat['idx'][i]] = dat['label'][i]"
   ]
  },
  {
   "cell_type": "code",
   "execution_count": 25,
   "metadata": {},
   "outputs": [],
   "source": [
    "regex = './filters/regex/name_medicalStaff/prepos_NAME_kor_transformed.txt'\n",
    "\"\"\"\n",
    "(By|BY|by|from|From|FROM)(.)?\\s[가-힣]{2,}\n",
    "# (([,&/\\s]?[가-힣]{2,}){1,})?\n",
    "2명 이상의 medical staff name이 포함되어 있을 수 있음\n",
    "\"\"\"\n",
    "\n",
    "with open(regex) as r:\n",
    "    patterns = re.compile(r.readline())\n",
    "    #re.compile(r.readline())\n",
    "    \n",
    "def convert_staffname05(matchObj):\n",
    "    match = matchObj.group()\n",
    "    convertString = \"'O'\" + \" 'PER-B'\"\n",
    "    return convertString"
   ]
  },
  {
   "cell_type": "code",
   "execution_count": 26,
   "metadata": {},
   "outputs": [],
   "source": [
    "transformed6 = pd.DataFrame(columns = ['idx', 'origin', 'label'])\n",
    "\n",
    "i=0\n",
    "for k in notes.keys():\n",
    "    convNote = re.sub(patterns, convert_staffname05, notes[k])\n",
    "    newNotes = [] #label정보를 담고 있음\n",
    "    for words in convNote.split():\n",
    "        if words in label:\n",
    "            newNotes.append(words)\n",
    "        else:\n",
    "            newNotes.append(\"'O'\")    \n",
    "#     for i in range(len(newNotes)-1):\n",
    "#         print(notes[notes].split()[i] + '\\t' + newNotes[i])\n",
    "    transformed6.loc[i] = [k, save_origins[k], convNote]\n",
    "    i += 1"
   ]
  },
  {
   "cell_type": "code",
   "execution_count": 27,
   "metadata": {},
   "outputs": [],
   "source": [
    "transformed6.to_csv('./PHI_tagging/lb_test.csv', index=False)"
   ]
  },
  {
   "cell_type": "code",
   "execution_count": null,
   "metadata": {},
   "outputs": [],
   "source": []
  }
 ],
 "metadata": {
  "kernelspec": {
   "display_name": "Python 3",
   "language": "python",
   "name": "python3"
  },
  "language_info": {
   "codemirror_mode": {
    "name": "ipython",
    "version": 3
   },
   "file_extension": ".py",
   "mimetype": "text/x-python",
   "name": "python",
   "nbconvert_exporter": "python",
   "pygments_lexer": "ipython3",
   "version": "3.8.5"
  }
 },
 "nbformat": 4,
 "nbformat_minor": 4
}
