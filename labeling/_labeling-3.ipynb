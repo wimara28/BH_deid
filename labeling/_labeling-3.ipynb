{
 "cells": [
  {
   "cell_type": "markdown",
   "metadata": {},
   "source": [
    "## Regex to label for KoBERT_03\n",
    "- 해당 노트는 label화가 진행된 token을 제외하고는 모두 'O'로 바꾸는 작업을 한 뒤, 아래와 같은 일반적인 NER input 형식으로 변환.\n",
    "\n",
    "확인(\\t)'O'(\\n)\n",
    "\n",
    "판독(\\t)'O'(\\n)\n",
    "\n",
    "홍길동(\\t)'PER-B'(\\n)\n",
    "\n",
    "- 참고로 위 형식은 KoBERT형식은 아님."
   ]
  },
  {
   "cell_type": "code",
   "execution_count": 1,
   "metadata": {},
   "outputs": [],
   "source": [
    "import pandas as pd\n",
    "import re"
   ]
  },
  {
   "cell_type": "code",
   "execution_count": 2,
   "metadata": {},
   "outputs": [],
   "source": [
    "raw = pd.read_csv('./PHI_tagging/lb_all_test.csv', encoding='utf-8')\n",
    "\n",
    "label = [\"'PER-B'\", \"'PER-I'\", \"'DAT-B'\", \"'DAT-I'\", \"'ORG-B'\", \n",
    "         \"'ORG-I'\", \"'LOC-B'\", \"'LOC-I'\", \"'NUM-B'\", \"'NUM-I'\", \"'ETC-B'\", \"'ETC-I'\"]"
   ]
  },
  {
   "cell_type": "code",
   "execution_count": 3,
   "metadata": {},
   "outputs": [],
   "source": [
    "notPassed = pd.DataFrame(columns = ['idx', 'origin', 'label']) #미리 설정"
   ]
  },
  {
   "cell_type": "code",
   "execution_count": 5,
   "metadata": {},
   "outputs": [],
   "source": [
    "def labelize(labelList):\n",
    "    # return all saved tokens\n",
    "    saved = []\n",
    "\n",
    "    #for i in labelList.split():\n",
    "    for i in labelList:\n",
    "        if i in label:\n",
    "            saved.append(i)\n",
    "        else:\n",
    "            saved.append(\"'O'\")\n",
    "    \n",
    "    return saved"
   ]
  },
  {
   "cell_type": "code",
   "execution_count": 6,
   "metadata": {},
   "outputs": [],
   "source": [
    "filenum = 0\n",
    "idx = 1\n",
    "\n",
    "for i in range(len(raw)):\n",
    "    \n",
    "    if (idx % 100)==0:\n",
    "        filenum += 1 \n",
    "    \n",
    "    raws = raw.iloc[i]['origin'].split()\n",
    "    lbs = raw.iloc[i]['label'].split()\n",
    "    \n",
    "    if len(raws)==len(lbs):\n",
    "        saved = labelize(lbs)\n",
    "        with open(f'PHI_tagging/labeled/labeled_{filenum}.txt', 'a') as f:\n",
    "#             f.write(raws + '\\t' + ' '.join(saved) + '\\n') #PHI_tagging\n",
    "            for j in range(len(raws)):\n",
    "                f.write(raws[j] + '\\t' + saved[j] + '\\n') #PHI_tagging_saved\n",
    "            \n",
    "            f.write('\\n')\n",
    "            f.close()\n",
    "    else:\n",
    "        notPassed.loc[i] = [raw.iloc[i]['idx'], raw.iloc[i]['origin'], raw.iloc[i]['label']]\n",
    "    \n",
    "    idx += 1"
   ]
  },
  {
   "cell_type": "code",
   "execution_count": 8,
   "metadata": {},
   "outputs": [
    {
     "data": {
      "text/html": [
       "<div>\n",
       "<style scoped>\n",
       "    .dataframe tbody tr th:only-of-type {\n",
       "        vertical-align: middle;\n",
       "    }\n",
       "\n",
       "    .dataframe tbody tr th {\n",
       "        vertical-align: top;\n",
       "    }\n",
       "\n",
       "    .dataframe thead th {\n",
       "        text-align: right;\n",
       "    }\n",
       "</style>\n",
       "<table border=\"1\" class=\"dataframe\">\n",
       "  <thead>\n",
       "    <tr style=\"text-align: right;\">\n",
       "      <th></th>\n",
       "      <th>idx</th>\n",
       "      <th>origin</th>\n",
       "      <th>label</th>\n",
       "    </tr>\n",
       "  </thead>\n",
       "  <tbody>\n",
       "    <tr>\n",
       "      <th>355</th>\n",
       "      <td>303979207</td>\n",
       "      <td>[Conclusion]\\n\\r1. Multilobulated cystic mass ...</td>\n",
       "      <td>[Conclusion]\\n\\r1. Multilobulated cystic mass ...</td>\n",
       "    </tr>\n",
       "  </tbody>\n",
       "</table>\n",
       "</div>"
      ],
      "text/plain": [
       "           idx                                             origin  \\\n",
       "355  303979207  [Conclusion]\\n\\r1. Multilobulated cystic mass ...   \n",
       "\n",
       "                                                 label  \n",
       "355  [Conclusion]\\n\\r1. Multilobulated cystic mass ...  "
      ]
     },
     "execution_count": 8,
     "metadata": {},
     "output_type": "execute_result"
    }
   ],
   "source": [
    "notPassed"
   ]
  },
  {
   "cell_type": "code",
   "execution_count": null,
   "metadata": {},
   "outputs": [],
   "source": []
  }
 ],
 "metadata": {
  "kernelspec": {
   "display_name": "Python 3",
   "language": "python",
   "name": "python3"
  },
  "language_info": {
   "codemirror_mode": {
    "name": "ipython",
    "version": 3
   },
   "file_extension": ".py",
   "mimetype": "text/x-python",
   "name": "python",
   "nbconvert_exporter": "python",
   "pygments_lexer": "ipython3",
   "version": "3.8.5"
  }
 },
 "nbformat": 4,
 "nbformat_minor": 4
}
