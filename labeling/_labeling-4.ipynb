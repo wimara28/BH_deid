{
 "cells": [
  {
   "cell_type": "markdown",
   "metadata": {},
   "source": [
    "## Regex to label for KoBERT_04\n",
    "- 해당 노트는 txt파일의 형식이 KoBERT에서 돌아가도록 변경한다.\n",
    "\n",
    "확인(\\t)'O'(\\n)\n",
    "\n",
    "판독(\\t)'O'(\\n)\n",
    "\n",
    "홍길동(\\t)'PER-B'(\\n)\n",
    "- 위 형식을 아래와 같은 형식으로 변경하여 저장한다.\n",
    "\n",
    "확인 판독 홍길동(\\t)'O' 'O' 'O'(\\n)"
   ]
  },
  {
   "cell_type": "code",
   "execution_count": 4,
   "metadata": {},
   "outputs": [],
   "source": [
    "def transformNER(note, purpose):\n",
    "    txt = open(note)\n",
    "    lines = txt.readlines()\n",
    "    \n",
    "    string = []\n",
    "    labels = []\n",
    "    #idx = 0\n",
    "\n",
    "    for line in lines:\n",
    "        \n",
    "        tmp = line.split('\\t')\n",
    "        \n",
    "        \n",
    "        \n",
    "        if line == '\\n': #note end\n",
    "            if len(string) != len(labels):\n",
    "                print(\"Not matched\")\n",
    "                break\n",
    "                \n",
    "            if purpose == 'prediction':\n",
    "                with open(f'ner_labeled/labeld_{purpose}.tsv', 'a') as f:\n",
    "                    f.write(' '.join(string) + '\\n')\n",
    "            else:\n",
    "                with open(f'ner_labeled/labeld_{purpose}.tsv', 'a') as f:\n",
    "                    f.write(' '.join(string) + '\\t' + ' '.join(labels) + '\\n')\n",
    "                    \n",
    "            string = []\n",
    "            labels = []\n",
    "                \n",
    "        else:\n",
    "            string.append(tmp[0].strip(\"''\"))\n",
    "            labels.append(tmp[1].strip().strip(\"''\"))\n",
    "    \n",
    "    return None"
   ]
  },
  {
   "cell_type": "code",
   "execution_count": null,
   "metadata": {},
   "outputs": [],
   "source": []
  },
  {
   "cell_type": "code",
   "execution_count": 5,
   "metadata": {},
   "outputs": [],
   "source": [
    "from os import listdir\n",
    "from os.path import isfile, join\n",
    "\n",
    "files = [f for f in listdir('labeled/') if isfile(join('labeled/', f))]"
   ]
  },
  {
   "cell_type": "code",
   "execution_count": 6,
   "metadata": {},
   "outputs": [
    {
     "data": {
      "text/plain": [
       "112"
      ]
     },
     "execution_count": 6,
     "metadata": {},
     "output_type": "execute_result"
    }
   ],
   "source": [
    "train_len = int(len(files) * 0.6)\n",
    "test_len = int(len(files) * 0.3)\n",
    "#valid_len = int(len(files) * 0.1)"
   ]
  },
  {
   "cell_type": "code",
   "execution_count": 7,
   "metadata": {},
   "outputs": [],
   "source": [
    "idx = 0\n",
    "\n",
    "for file in files:\n",
    "    if idx < train_len:\n",
    "        transformNER('labeled/' + file, 'train')\n",
    "        idx += 1\n",
    "    elif idx >= train_len and idx < test_len:\n",
    "        transformNER('labeled/' + file, 'valid')\n",
    "        idx += 1\n",
    "    else:\n",
    "        transformNER('labeled/' + file, 'prediction')"
   ]
  },
  {
   "cell_type": "code",
   "execution_count": null,
   "metadata": {},
   "outputs": [],
   "source": []
  },
  {
   "cell_type": "markdown",
   "metadata": {},
   "source": [
    "### 검증"
   ]
  },
  {
   "cell_type": "code",
   "execution_count": 8,
   "metadata": {},
   "outputs": [],
   "source": [
    "def test_length(dataset):\n",
    "\n",
    "    examples = []\n",
    "    for (i, data) in enumerate(dataset):\n",
    "        words, labels = data.split('\\t')\n",
    "        words = words.split()\n",
    "        labels = labels.split()\n",
    "\n",
    "        if len(words) != len(labels):\n",
    "            print(words, labels)"
   ]
  },
  {
   "cell_type": "code",
   "execution_count": 9,
   "metadata": {},
   "outputs": [
    {
     "name": "stdout",
     "output_type": "stream",
     "text": [
      "['[Conclusion]', '***Measured', 'humeral', 'retroversion', 'angle***', 'Right', ':', '54.2', 'Left', ':', '30.8', '[Finding]', 'Humerus', 'Torsion', 'CT', '+3D', ':'] ['O', 'O', 'O', 'O', 'O', 'O', 'O', 'O', 'O', 'O', 'O', 'O', 'O', 'O', 'O', 'O', 'O', 'O', 'O']\n"
     ]
    }
   ],
   "source": [
    "dataset = open('ner_labeled/labeld_valid.tsv')\n",
    "test_length(dataset)"
   ]
  },
  {
   "cell_type": "code",
   "execution_count": null,
   "metadata": {},
   "outputs": [],
   "source": []
  }
 ],
 "metadata": {
  "kernelspec": {
   "display_name": "Python 3",
   "language": "python",
   "name": "python3"
  },
  "language_info": {
   "codemirror_mode": {
    "name": "ipython",
    "version": 3
   },
   "file_extension": ".py",
   "mimetype": "text/x-python",
   "name": "python",
   "nbconvert_exporter": "python",
   "pygments_lexer": "ipython3",
   "version": "3.8.5"
  }
 },
 "nbformat": 4,
 "nbformat_minor": 4
}
