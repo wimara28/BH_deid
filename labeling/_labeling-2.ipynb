{
 "cells": [
  {
   "cell_type": "markdown",
   "metadata": {},
   "source": [
    "## Regex to label for KoBERT_02\n",
    "- 01에서 진행했던 patients, medical staff 외 항목에 대한 labeling을 진행.\n",
    "- 해당 노트까지 진행하면 노트는 regex에 잡히는 항목에 대해서는 모두 [... 'O' 'PER-B' 진행하였음 ....] 이런형태로 저장됨.\n",
    "- regex에 잡히지 않는 평범한 문장은 원문 그대로 저장."
   ]
  },
  {
   "cell_type": "code",
   "execution_count": 1,
   "metadata": {},
   "outputs": [],
   "source": [
    "import os\n",
    "import copy\n",
    "import re\n",
    "\n",
    "import pandas as pd"
   ]
  },
  {
   "cell_type": "code",
   "execution_count": 2,
   "metadata": {},
   "outputs": [],
   "source": [
    "dat = pd.read_csv('./PHI_tagging/lb_test.csv', encoding='utf-8')\n",
    "label = [\"'PER-B'\", \"'PER-I'\", \"'DAT-B'\", \"'DAT-I'\", \"'ORG-B'\", \n",
    "         \"'ORG-I'\", \"'LOC-B'\", \"'LOC-I'\", \"'NUM-B'\", \"'NUM-I'\", \"'ETC-B'\", \"'ETC-I'\"]"
   ]
  },
  {
   "cell_type": "markdown",
   "metadata": {},
   "source": [
    "### Date\n",
    "- date 폴더 내에 있는 모든 regex를 불러옴\n",
    "- 패턴매칭되는 항목들에 대해 sub진행 "
   ]
  },
  {
   "cell_type": "code",
   "execution_count": 3,
   "metadata": {},
   "outputs": [],
   "source": [
    "notes={}\n",
    "\n",
    "for i in range(len(dat)):\n",
    "    notes[dat['idx'][i]] = dat['label'][i]\n"
   ]
  },
  {
   "cell_type": "code",
   "execution_count": 5,
   "metadata": {},
   "outputs": [],
   "source": [
    "ori = pd.read_csv('phis.csv', encoding='utf-8')\n",
    "\n",
    "nori = {}\n",
    "\n",
    "for i in range(len(dat)):\n",
    "    nori[ori['note_id'][i]] = ori['note_text'][i]\n",
    "\n",
    "save_origins = copy.deepcopy(nori)"
   ]
  },
  {
   "cell_type": "code",
   "execution_count": 6,
   "metadata": {},
   "outputs": [],
   "source": [
    "patterns = []\n",
    "date_regex_path = './filters/regex/dates/'\n",
    "file_list = os.listdir(date_regex_path)\n",
    "\n",
    "for file in file_list:\n",
    "    if file.endswith('_transformed.txt'):\n",
    "        with open(date_regex_path + file) as r:\n",
    "            patterns.append(re.compile(r.readline()))"
   ]
  },
  {
   "cell_type": "code",
   "execution_count": 7,
   "metadata": {},
   "outputs": [],
   "source": [
    "def convert_date(matchObj):\n",
    "    match = matchObj.group()\n",
    "    convertString = \"'DAT-B'\" + \" 'DAT-I'\" * (len(match.split())-1)\n",
    "    return convertString"
   ]
  },
  {
   "cell_type": "code",
   "execution_count": null,
   "metadata": {},
   "outputs": [],
   "source": []
  },
  {
   "cell_type": "code",
   "execution_count": 8,
   "metadata": {},
   "outputs": [],
   "source": [
    "transformed = pd.DataFrame(columns = ['idx', 'origin', 'label'])\n",
    "\n",
    "i=0\n",
    "for k in notes.keys():\n",
    "    \n",
    "    convNote = notes[k]\n",
    "    \n",
    "    for p in patterns:\n",
    "        convNote = re.sub(p, convert_date, convNote)\n",
    "    \n",
    "    newNotes = [] #label정보를 담고 있음\n",
    "    for words in convNote.split():\n",
    "        if words in label:\n",
    "            newNotes.append(words)\n",
    "        else:\n",
    "            newNotes.append(\"'O'\")    \n",
    "#     for i in range(len(newNotes)-1):\n",
    "#         print(notes[notes].split()[i] + '\\t' + newNotes[i])\n",
    "    transformed.loc[i] = [k, notes[k], convNote]\n",
    "    i += 1"
   ]
  },
  {
   "cell_type": "code",
   "execution_count": 9,
   "metadata": {},
   "outputs": [
    {
     "data": {
      "text/html": [
       "<div>\n",
       "<style scoped>\n",
       "    .dataframe tbody tr th:only-of-type {\n",
       "        vertical-align: middle;\n",
       "    }\n",
       "\n",
       "    .dataframe tbody tr th {\n",
       "        vertical-align: top;\n",
       "    }\n",
       "\n",
       "    .dataframe thead th {\n",
       "        text-align: right;\n",
       "    }\n",
       "</style>\n",
       "<table border=\"1\" class=\"dataframe\">\n",
       "  <thead>\n",
       "    <tr style=\"text-align: right;\">\n",
       "      <th></th>\n",
       "      <th>idx</th>\n",
       "      <th>origin</th>\n",
       "      <th>label</th>\n",
       "    </tr>\n",
       "  </thead>\n",
       "  <tbody>\n",
       "    <tr>\n",
       "      <th>0</th>\n",
       "      <td>301629252</td>\n",
       "      <td>[Conclusion]\\n\\r1. Thyroid Parenchyma\\r\\n  - n...</td>\n",
       "      <td>[Conclusion]\\n\\r1. Thyroid Parenchyma\\r\\n  - n...</td>\n",
       "    </tr>\n",
       "    <tr>\n",
       "      <th>1</th>\n",
       "      <td>302222272</td>\n",
       "      <td>[Conclusion]\\n\\rImproved probable pneumonia, R...</td>\n",
       "      <td>[Conclusion]\\n\\rImproved probable pneumonia, R...</td>\n",
       "    </tr>\n",
       "    <tr>\n",
       "      <th>2</th>\n",
       "      <td>308580103</td>\n",
       "      <td>[Conclusion]\\n\\rNo active lesion in the lung.\\...</td>\n",
       "      <td>[Conclusion]\\n\\rNo active lesion in the lung.\\...</td>\n",
       "    </tr>\n",
       "  </tbody>\n",
       "</table>\n",
       "</div>"
      ],
      "text/plain": [
       "         idx                                             origin  \\\n",
       "0  301629252  [Conclusion]\\n\\r1. Thyroid Parenchyma\\r\\n  - n...   \n",
       "1  302222272  [Conclusion]\\n\\rImproved probable pneumonia, R...   \n",
       "2  308580103  [Conclusion]\\n\\rNo active lesion in the lung.\\...   \n",
       "\n",
       "                                               label  \n",
       "0  [Conclusion]\\n\\r1. Thyroid Parenchyma\\r\\n  - n...  \n",
       "1  [Conclusion]\\n\\rImproved probable pneumonia, R...  \n",
       "2  [Conclusion]\\n\\rNo active lesion in the lung.\\...  "
      ]
     },
     "execution_count": 9,
     "metadata": {},
     "output_type": "execute_result"
    }
   ],
   "source": [
    "transformed[:3]"
   ]
  },
  {
   "cell_type": "markdown",
   "metadata": {},
   "source": [
    "---"
   ]
  },
  {
   "cell_type": "code",
   "execution_count": null,
   "metadata": {},
   "outputs": [],
   "source": []
  },
  {
   "cell_type": "markdown",
   "metadata": {},
   "source": [
    "### Hospitals"
   ]
  },
  {
   "cell_type": "code",
   "execution_count": 10,
   "metadata": {},
   "outputs": [],
   "source": [
    "dat = transformed\n",
    "\n",
    "for i in range(len(dat)):\n",
    "    notes[dat['idx'][i]] = dat['label'][i]"
   ]
  },
  {
   "cell_type": "code",
   "execution_count": 11,
   "metadata": {},
   "outputs": [],
   "source": [
    "patterns = []\n",
    "date_regex_path = './filters/regex/organizations/'\n",
    "file_list = os.listdir(date_regex_path)\n",
    "\n",
    "for file in file_list:\n",
    "    if file.endswith('_transformed.txt'):\n",
    "        with open(date_regex_path + file) as r:\n",
    "            patterns.append(re.compile(r.readline()))"
   ]
  },
  {
   "cell_type": "code",
   "execution_count": 12,
   "metadata": {},
   "outputs": [],
   "source": [
    "def convert_orgs(matchObj):\n",
    "    match = matchObj.group()\n",
    "    convertString = \"'ORG-B'\" + \" 'ORG-I'\" * (len(match.split())-1)\n",
    "    return convertString"
   ]
  },
  {
   "cell_type": "code",
   "execution_count": 13,
   "metadata": {},
   "outputs": [],
   "source": [
    "transformed2 = pd.DataFrame(columns = ['idx', 'origin', 'label'])"
   ]
  },
  {
   "cell_type": "code",
   "execution_count": 14,
   "metadata": {},
   "outputs": [],
   "source": [
    "i=0\n",
    "for k in notes.keys():\n",
    "    \n",
    "    convNote = notes[k]\n",
    "    \n",
    "    for p in patterns:\n",
    "        convNote = re.sub(p, convert_orgs, convNote)\n",
    "    \n",
    "    newNotes = [] #label정보를 담고 있음\n",
    "    for words in convNote.split():\n",
    "        if words in label:\n",
    "            newNotes.append(words)\n",
    "        else:\n",
    "            newNotes.append(\"'O'\")    \n",
    "#     for i in range(len(newNotes)-1):\n",
    "#         print(notes[notes].split()[i] + '\\t' + newNotes[i])\n",
    "    transformed2.loc[i] = [k, notes[k], convNote]\n",
    "    i += 1"
   ]
  },
  {
   "cell_type": "markdown",
   "metadata": {},
   "source": [
    "### Region"
   ]
  },
  {
   "cell_type": "code",
   "execution_count": 15,
   "metadata": {},
   "outputs": [],
   "source": [
    "dat = transformed2\n",
    "\n",
    "for i in range(len(dat)):\n",
    "    notes[dat['idx'][i]] = dat['label'][i]"
   ]
  },
  {
   "cell_type": "code",
   "execution_count": 16,
   "metadata": {},
   "outputs": [],
   "source": [
    "regex = './filters/regex/region/district_kor_transformed.txt'\n",
    "\n",
    "with open(regex) as r:\n",
    "    patterns = re.compile(r.readline())\n",
    "    #re.compile(r.readline())\n",
    "    \n",
    "def convert_region(matchObj):\n",
    "    match = matchObj.group()\n",
    "    convertString = \"'LOC-B'\"\n",
    "    return convertString"
   ]
  },
  {
   "cell_type": "code",
   "execution_count": null,
   "metadata": {},
   "outputs": [],
   "source": [
    "transformed3 = pd.DataFrame(columns = ['idx', 'origin', 'label'])\n",
    "\n",
    "i=0\n",
    "for k in notes.keys():\n",
    "    convNote = re.sub(patterns, convert_region, notes[k])\n",
    "    newNotes = [] #label정보를 담고 있음\n",
    "    for words in convNote.split():\n",
    "        if words in label:\n",
    "            newNotes.append(words)\n",
    "        else:\n",
    "            newNotes.append(\"'O'\")    \n",
    "#     for i in range(len(newNotes)-1):\n",
    "#         print(notes[notes].split()[i] + '\\t' + newNotes[i])\n",
    "    transformed3.loc[i] = [k, notes[k], convNote]\n",
    "    i += 1"
   ]
  },
  {
   "cell_type": "code",
   "execution_count": null,
   "metadata": {},
   "outputs": [],
   "source": [
    "transformed3[:3]"
   ]
  },
  {
   "cell_type": "code",
   "execution_count": null,
   "metadata": {},
   "outputs": [],
   "source": []
  },
  {
   "cell_type": "markdown",
   "metadata": {},
   "source": [
    "### Phone"
   ]
  },
  {
   "cell_type": "code",
   "execution_count": null,
   "metadata": {},
   "outputs": [],
   "source": [
    "dat = transformed3\n",
    "\n",
    "for i in range(len(dat)):\n",
    "    notes[dat['idx'][i]] = dat['label'][i]"
   ]
  },
  {
   "cell_type": "code",
   "execution_count": null,
   "metadata": {},
   "outputs": [],
   "source": [
    "regex = './filters/regex/phone/nums.txt'\n",
    "\n",
    "with open(regex) as r:\n",
    "    patterns = re.compile(r.readline())\n",
    "    #re.compile(r.readline())\n",
    "    \n",
    "def convert_nums(matchObj):\n",
    "    match = matchObj.group()\n",
    "    convertString = \"'NUM-B'\" + \" 'NUM-I'\" * (len(match.split())-1)\n",
    "    return convertString"
   ]
  },
  {
   "cell_type": "code",
   "execution_count": null,
   "metadata": {},
   "outputs": [],
   "source": [
    "transformed4 = pd.DataFrame(columns = ['idx', 'origin', 'label'])\n",
    "\n",
    "i=0\n",
    "for k in notes.keys():\n",
    "    convNote = re.sub(patterns, convert_nums, notes[k])\n",
    "    newNotes = [] #label정보를 담고 있음\n",
    "    for words in convNote.split():\n",
    "        if words in label:\n",
    "            newNotes.append(words)\n",
    "        else:\n",
    "            newNotes.append(\"'O'\")    \n",
    "#     for i in range(len(newNotes)-1):\n",
    "#         print(notes[notes].split()[i] + '\\t' + newNotes[i])\n",
    "    transformed4.loc[i] = [k, notes[k], convNote]\n",
    "    i += 1"
   ]
  },
  {
   "cell_type": "code",
   "execution_count": null,
   "metadata": {},
   "outputs": [],
   "source": []
  },
  {
   "cell_type": "markdown",
   "metadata": {},
   "source": [
    "### etc"
   ]
  },
  {
   "cell_type": "code",
   "execution_count": null,
   "metadata": {},
   "outputs": [],
   "source": [
    "dat = transformed4\n",
    "\n",
    "for i in range(len(dat)):\n",
    "    notes[dat['idx'][i]] = dat['label'][i]"
   ]
  },
  {
   "cell_type": "code",
   "execution_count": null,
   "metadata": {},
   "outputs": [],
   "source": [
    "patterns = []\n",
    "date_regex_path = './filters/regex/etc/'\n",
    "file_list = os.listdir(date_regex_path)\n",
    "\n",
    "for file in file_list:\n",
    "    if file.endswith('_transformed.txt'):\n",
    "        with open(date_regex_path + file) as r:\n",
    "            patterns.append(re.compile(r.readline()))"
   ]
  },
  {
   "cell_type": "code",
   "execution_count": null,
   "metadata": {},
   "outputs": [],
   "source": [
    "def convert_etc(matchObj):\n",
    "    match = matchObj.group()\n",
    "    convertString = \"'ETC-B'\" + \" 'ETC-I'\" * (len(match.split())-1)\n",
    "    return convertString"
   ]
  },
  {
   "cell_type": "code",
   "execution_count": null,
   "metadata": {},
   "outputs": [],
   "source": [
    "transformed5 = pd.DataFrame(columns = ['idx', 'origin', 'label'])\n",
    "\n",
    "i=0\n",
    "for k in notes.keys():\n",
    "    \n",
    "    convNote = notes[k]\n",
    "    \n",
    "    for p in patterns:\n",
    "        convNote = re.sub(p, convert_etc, convNote)\n",
    "    \n",
    "    newNotes = [] #label정보를 담고 있음\n",
    "    for words in convNote.split():\n",
    "        if words in label:\n",
    "            newNotes.append(words)\n",
    "        else:\n",
    "            newNotes.append(\"'O'\")    \n",
    "#     for i in range(len(newNotes)-1):\n",
    "#         print(notes[notes].split()[i] + '\\t' + newNotes[i])\n",
    "    transformed5.loc[i] = [k, save_origins[k], convNote]\n",
    "    i += 1"
   ]
  },
  {
   "cell_type": "code",
   "execution_count": null,
   "metadata": {},
   "outputs": [],
   "source": [
    "transformed5.to_csv('./PHI_tagging/lb_all_test.csv', index=False)"
   ]
  }
 ],
 "metadata": {
  "kernelspec": {
   "display_name": "Python 3",
   "language": "python",
   "name": "python3"
  },
  "language_info": {
   "codemirror_mode": {
    "name": "ipython",
    "version": 3
   },
   "file_extension": ".py",
   "mimetype": "text/x-python",
   "name": "python",
   "nbconvert_exporter": "python",
   "pygments_lexer": "ipython3",
   "version": "3.7.6"
  }
 },
 "nbformat": 4,
 "nbformat_minor": 4
}
